{
 "cells": [
  {
   "cell_type": "markdown",
   "metadata": {},
   "source": [
    "在不同数据集上实现ADVI算法。ADVI的模型构建和训练测试在“ADVI_bnn.py”实现"
   ]
  },
  {
   "cell_type": "code",
   "execution_count": 1,
   "metadata": {},
   "outputs": [],
   "source": [
    "import os\n",
    "import numpy as np\n",
    "import pickle\n",
    "from scipy import stats\n",
    "import matplotlib.pyplot as plt\n",
    "\n",
    "from dataset.UCIdataset import UCIDataset\n",
    "from ADVI_bnn import train, test, construct_nn"
   ]
  },
  {
   "cell_type": "markdown",
   "metadata": {},
   "source": [
    "这里先定义两个显示测试结果的函数，分布得到模型在测试集上的log-likelihood和ELBO随迭代次数的变化"
   ]
  },
  {
   "cell_type": "code",
   "execution_count": 2,
   "metadata": {},
   "outputs": [],
   "source": [
    "def log_prob(ppc, Y_test):\n",
    "    pred = ppc['out']\n",
    "    sd = np.std(ppc['out'], axis=0)\n",
    "    logp = [np.mean(stats.norm.logpdf(pred[:, i] - Y_test[i],\n",
    "                                      loc=0, scale=sd[i])) for i in range(len(sd))]\n",
    "    print ('log-likelihood mean: %.2f'%np.mean(logp))\n",
    "    print('log-likelihood std: %.3f' % np.std(logp))\n",
    "    return np.mean(logp), np.std(logp)\n",
    "\n",
    "\n",
    "def show_inference(inference, b=0, e=100):\n",
    "    plt.plot(-inference.hist[b:e], alpha=.3)\n",
    "    plt.ylabel('ELBO')\n",
    "    plt.xlabel('iteration')\n",
    "    plt.show()\n",
    "    return None"
   ]
  },
  {
   "cell_type": "markdown",
   "metadata": {},
   "source": [
    "打包训练和测试的函数"
   ]
  },
  {
   "cell_type": "code",
   "execution_count": 3,
   "metadata": {},
   "outputs": [],
   "source": [
    "def run(dataset_name, root_path, hypers, shape='train_test'):\n",
    "    np.random.seed(123)\n",
    "\n",
    "    for time in range(hypers['times']):\n",
    "        outpath = os.path.join(root_path, str(time))\n",
    "        if not os.path.exists(outpath):\n",
    "            os.makedirs(outpath)\n",
    "        if dataset_name == 'face':\n",
    "            data = FaceDataset(\"./dataset\", 0.9)\n",
    "        else:\n",
    "            data = UCIDataset(dataset_name, 0.9)\n",
    "\n",
    "        X = np.append(data.Xtrain, data.Xtest, axis=0)\n",
    "        Y = np.append(data.Ytrain, data.Ytest)\n",
    "        data.Ytrain = data.Ytrain.reshape(len(data.Ytrain), )\n",
    "        data.Ytest = data.Ytest.reshape(len(data.Ytest), )\n",
    "        neural_network = construct_nn(\n",
    "            X, Y, data.Xtrain, data.Ytrain, hypers)\n",
    "\n",
    "        approx_file = os.path.join(outpath, \"approx.pkl\")\n",
    "        inference_file = os.path.join(outpath, \"inference.pkl\")\n",
    "        ppc_file = os.path.join(outpath, \"ppc.pkl\")\n",
    "        if shape == 'train_test':\n",
    "            inference, approx = train(\n",
    "                neural_network, inference_file, approx_file, hypers)\n",
    "            ppc = test(\n",
    "                neural_network,\n",
    "                approx,\n",
    "                data.Xtest,\n",
    "                data.Ytest,\n",
    "                ppc_file,\n",
    "                trace_samples=hypers['pred_samples'],\n",
    "                pred_samples=hypers['pred_samples'])\n",
    "        if shape == 'test':\n",
    "            with open(inference_file, 'rb') as f:\n",
    "                inference = pickle.load(f)\n",
    "            with open(approx_file, 'rb') as f:\n",
    "                approx = pickle.load(f)\n",
    "\n",
    "            ppc = test(\n",
    "                neural_network,\n",
    "                approx,\n",
    "                data.Xtest,\n",
    "                data.Ytest,\n",
    "                ppc_file,\n",
    "                trace_samples=hypers['pred_samples'],\n",
    "                pred_samples=hypers['pred_samples'])\n",
    "        if shape == 'show':\n",
    "            with open(inference_file, 'rb') as f:\n",
    "                inference = pickle.load(f)\n",
    "            with open(approx_file, 'rb') as f:\n",
    "                approx = pickle.load(f)\n",
    "            with open(ppc_file, 'rb') as f:\n",
    "                ppc = pickle.load(f)\n",
    "\n",
    "        show_inference(inference, b=0, e=hypers['n_sample'])\n",
    "        log_prob(ppc, data.Ytest)\n",
    "\n",
    "    return None"
   ]
  },
  {
   "cell_type": "markdown",
   "metadata": {},
   "source": [
    "开始训练模型并给出测试集上的相关结果，这里以“conc”数据集为例。"
   ]
  },
  {
   "cell_type": "code",
   "execution_count": 4,
   "metadata": {},
   "outputs": [
    {
     "name": "stderr",
     "output_type": "stream",
     "text": [
      "Average Loss = 3,725.6: 100%|██████████| 100000/100000 [02:19<00:00, 718.67it/s] \n",
      "Finished [100%]: Average Loss = 3,725.5\n",
      "100%|██████████| 5000/5000 [00:46<00:00, 106.91it/s]\n"
     ]
    },
    {
     "data": {
      "image/png": "[encoded data removed]",
      "text/plain": [
       "<Figure size 432x288 with 1 Axes>"
      ]
     },
     "metadata": {
      "needs_background": "light"
     },
     "output_type": "display_data"
    },
    {
     "name": "stdout",
     "output_type": "stream",
     "text": [
      "log-likelihood mean: -4.14\n",
      "log-likelihood std: 0.558\n"
     ]
    }
   ],
   "source": [
    "dataset_name = \"conc\" #数据集名称\n",
    "root_path = os.path.join('/home/yunnd/project/ADVI_result_test', dataset_name) #存储结果的路径\n",
    "hypers = {'conc': {'sd': 1,\n",
    "                   'lr': 0.01,\n",
    "                   'n_hidden': 50,\n",
    "                   'n_sample': 100000,\n",
    "                   'pred_samples': 5000,\n",
    "                   'times': 1\n",
    "                   },\n",
    "          'powe': {'sd': 1,\n",
    "                   'lr': 0.01,\n",
    "                   'n_hidden': 50,\n",
    "                   'n_sample': 100000,\n",
    "                   'pred_samples': 5000,\n",
    "                   'times': 1\n",
    "                   },\n",
    "          'yach': {'sd': 1,\n",
    "                   'lr': 0.01,\n",
    "                   'n_hidden': 50,\n",
    "                   'n_sample': 100000,\n",
    "                   'pred_samples': 5000,\n",
    "                   'times': 1\n",
    "                   },\n",
    "          'prot': {'sd': 1,\n",
    "                   'lr': 0.01,\n",
    "                   'n_hidden': 50,\n",
    "                   'n_sample': 100000,\n",
    "                   'pred_samples': 5000,\n",
    "                   'times': 1\n",
    "                   },\n",
    "          'face':\n",
    "                 {'in': {\"scale\": [[1.0]], \"shift\": [[0.0]]},\n",
    "                  'out': {\"scale\": [[1.0, 0.1]], \"shift\": [[0.0, -1.0]]},\n",
    "                  'hidden_dims': [50],\n",
    "                  'learning_rate': 0.3,\n",
    "                  'n_epochs': 800,\n",
    "                  'epochs': [225, 400]\n",
    "                  }\n",
    "          }\n",
    "run(dataset_name, root_path, hypers[dataset_name], 'train_test')"
   ]
  },
  {
   "cell_type": "code",
   "execution_count": null,
   "metadata": {},
   "outputs": [],
   "source": []
  }
 ],
 "metadata": {
  "kernelspec": {
   "display_name": "Python 3",
   "language": "python",
   "name": "python3"
  },
  "language_info": {
   "codemirror_mode": {
    "name": "ipython",
    "version": 3
   },
   "file_extension": ".py",
   "mimetype": "text/x-python",
   "name": "python",
   "nbconvert_exporter": "python",
   "pygments_lexer": "ipython3",
   "version": "3.7.5"
  }
 },
 "nbformat": 4,
 "nbformat_minor": 2
}
