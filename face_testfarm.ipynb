{
 "cells": [
  {
   "cell_type": "code",
   "execution_count": 1,
   "metadata": {},
   "outputs": [],
   "source": [
    "from nn_model import *"
   ]
  },
  {
   "cell_type": "code",
   "execution_count": 2,
   "metadata": {},
   "outputs": [],
   "source": [
    "from dataset.Facedataset import FaceDataset"
   ]
  },
  {
   "cell_type": "code",
   "execution_count": 3,
   "metadata": {},
   "outputs": [],
   "source": [
    "data = FaceDataset(\"./dataset\", 0.9)"
   ]
  },
  {
   "cell_type": "code",
   "execution_count": 4,
   "metadata": {},
   "outputs": [
    {
     "name": "stderr",
     "output_type": "stream",
     "text": [
      "C:\\Users\\AndrewHuang\\Documents\\GitHub\\deterministic-variational-inference-master\\nn_model.py:22: UserWarning: nn.init.xavier_uniform is now deprecated in favor of nn.init.xavier_uniform_.\n",
      "  torch.nn.init.xavier_uniform(layer.weight)\n",
      "C:\\Users\\AndrewHuang\\Documents\\GitHub\\deterministic-variational-inference-master\\nn_model.py:41: UserWarning: nn.init.xavier_uniform is now deprecated in favor of nn.init.xavier_uniform_.\n",
      "  torch.nn.init.xavier_uniform(layer[0].weight)\n",
      "C:\\Users\\AndrewHuang\\Documents\\GitHub\\deterministic-variational-inference-master\\nn_model.py:60: UserWarning: nn.init.xavier_uniform is now deprecated in favor of nn.init.xavier_uniform_.\n",
      "  torch.nn.init.xavier_uniform(layer[0].weight)\n"
     ]
    }
   ],
   "source": [
    "in_dim = data.Xtrain.shape[1]\n",
    "out_dim = 1\n",
    "models = {\"vanilla NN\": MLP(in_dim, [1024, 1024], out_dim), \"batch_norm\": MLP_bn(in_dim, [1024, 1024], out_dim), \"Dropout\": MLP_drop(in_dim, [1024, 1024], out_dim)}"
   ]
  },
  {
   "cell_type": "code",
   "execution_count": null,
   "metadata": {},
   "outputs": [],
   "source": [
    "model_loss = {\"vanilla NN\": [], \"batch_norm\": [], \"Dropout\": []}\n",
    "for name in models:\n",
    "    train_loss, test_loss = train_nn(models[name], data, 10000)\n",
    "    model_loss[name].append([train_loss, test_loss])"
   ]
  },
  {
   "cell_type": "code",
   "execution_count": 6,
   "metadata": {},
   "outputs": [
    {
     "data": {
      "text/plain": [
       "{'vanilla NN': [[[17.786508560180664], [17.624530792236328]]],\n",
       " 'batch_norm': [[[18.679794311523438], [18.563081741333008]]],\n",
       " 'Dropout': [[[17.77468490600586], [17.615936279296875]]]}"
      ]
     },
     "execution_count": 6,
     "metadata": {},
     "output_type": "execute_result"
    }
   ],
   "source": [
    "model_loss"
   ]
  },
  {
   "cell_type": "code",
   "execution_count": null,
   "metadata": {},
   "outputs": [],
   "source": []
  }
 ],
 "metadata": {
  "kernelspec": {
   "display_name": "Python 3",
   "language": "python",
   "name": "python3"
  },
  "language_info": {
   "codemirror_mode": {
    "name": "ipython",
    "version": 3
   },
   "file_extension": ".py",
   "mimetype": "text/x-python",
   "name": "python",
   "nbconvert_exporter": "python",
   "pygments_lexer": "ipython3",
   "version": "3.7.0"
  }
 },
 "nbformat": 4,
 "nbformat_minor": 2
}
