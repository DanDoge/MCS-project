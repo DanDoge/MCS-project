{
 "cells": [
  {
   "cell_type": "code",
   "execution_count": 1,
   "metadata": {},
   "outputs": [],
   "source": [
    "from nn_model import *"
   ]
  },
  {
   "cell_type": "code",
   "execution_count": 2,
   "metadata": {},
   "outputs": [],
   "source": [
    "from dataset.Facedataset import FaceDataset"
   ]
  },
  {
   "cell_type": "code",
   "execution_count": 3,
   "metadata": {},
   "outputs": [],
   "source": [
    "data = FaceDataset(\"./dataset\", 0.9)"
   ]
  },
  {
   "cell_type": "code",
   "execution_count": 4,
   "metadata": {},
   "outputs": [
    {
     "data": {
      "text/plain": [
       "(4109, 10000)"
      ]
     },
     "execution_count": 4,
     "metadata": {},
     "output_type": "execute_result"
    }
   ],
   "source": [
    "data.Xtrain.shape"
   ]
  },
  {
   "cell_type": "code",
   "execution_count": 5,
   "metadata": {},
   "outputs": [
    {
     "name": "stderr",
     "output_type": "stream",
     "text": [
      "C:\\Users\\AndrewHuang\\Anaconda3\\lib\\site-packages\\ipykernel_launcher.py:14: UserWarning: nn.init.xavier_uniform is now deprecated in favor of nn.init.xavier_uniform_.\n",
      "  \n",
      "C:\\Users\\AndrewHuang\\Anaconda3\\lib\\site-packages\\ipykernel_launcher.py:15: UserWarning: nn.init.xavier_uniform is now deprecated in favor of nn.init.xavier_uniform_.\n",
      "  from ipykernel import kernelapp as app\n",
      "C:\\Users\\AndrewHuang\\Anaconda3\\lib\\site-packages\\ipykernel_launcher.py:16: UserWarning: nn.init.xavier_uniform is now deprecated in favor of nn.init.xavier_uniform_.\n",
      "  app.launch_new_instance()\n",
      "C:\\Users\\AndrewHuang\\Anaconda3\\lib\\site-packages\\ipykernel_launcher.py:18: UserWarning: nn.init.xavier_uniform is now deprecated in favor of nn.init.xavier_uniform_.\n",
      "C:\\Users\\AndrewHuang\\Anaconda3\\lib\\site-packages\\ipykernel_launcher.py:19: UserWarning: nn.init.xavier_uniform is now deprecated in favor of nn.init.xavier_uniform_.\n",
      "C:\\Users\\AndrewHuang\\Anaconda3\\lib\\site-packages\\ipykernel_launcher.py:20: UserWarning: nn.init.xavier_uniform is now deprecated in favor of nn.init.xavier_uniform_.\n"
     ]
    }
   ],
   "source": [
    "class Net(nn.Module):\n",
    "    def __init__(self):\n",
    "        super(Net, self).__init__()\n",
    "        self.conv1 = nn.Sequential(nn.Conv2d(1, 4, 3), nn.Conv2d(4, 4, 3), nn.Conv2d(4, 4, 3))\n",
    "        self.pool1 = nn.MaxPool2d(2, 2)\n",
    "        self.conv2 = nn.Sequential(nn.Conv2d(4, 8, 3), nn.Conv2d(8, 8, 3), nn.Conv2d(8, 8, 3))\n",
    "        self.pool2 = nn.MaxPool2d(2, 2)\n",
    "        self.conv3 = nn.Sequential(nn.Conv2d(8, 16, 3), nn.Conv2d(16, 16, 3), nn.Conv2d(16, 16, 3))\n",
    "        self.fc1 = nn.Linear(16 * 14 * 14, 2048)\n",
    "        self.fc2 = nn.Linear(2048, 1024)\n",
    "        self.fc3 = nn.Linear(1024, 1)\n",
    "        \n",
    "        for i in range(3):\n",
    "            torch.nn.init.xavier_uniform(self.conv1[i].weight)\n",
    "            torch.nn.init.xavier_uniform(self.conv2[i].weight)\n",
    "            torch.nn.init.xavier_uniform(self.conv3[i].weight)\n",
    "        \n",
    "        torch.nn.init.xavier_uniform(self.fc1.weight)\n",
    "        torch.nn.init.xavier_uniform(self.fc2.weight)\n",
    "        torch.nn.init.xavier_uniform(self.fc3.weight)\n",
    "\n",
    "    def forward(self, x):\n",
    "        x = self.pool1(F.relu(self.conv1(x)))\n",
    "        x = self.pool2(F.relu(self.conv2(x)))\n",
    "        x = F.relu(self.conv3(x))\n",
    "        x = x.view(-1, 16 * 14 * 14)\n",
    "        x = F.relu(self.fc1(x))\n",
    "        x = F.relu(self.fc2(x))\n",
    "        x = self.fc3(x)\n",
    "        return x\n",
    "\n",
    "\n",
    "net = Net()"
   ]
  },
  {
   "cell_type": "code",
   "execution_count": null,
   "metadata": {},
   "outputs": [
    {
     "name": "stdout",
     "output_type": "stream",
     "text": [
      "46.581329345703125 47.63868713378906\n",
      "47.88955078125 49.713558197021484\n",
      "49.950888061523436 48.525638580322266\n",
      "49.45524291992187 48.30742263793945\n",
      "47.23448486328125 47.66364669799805\n",
      "50.67836303710938 47.60847854614258\n",
      "48.68849487304688 48.47117614746094\n",
      "47.17344665527344 47.58191680908203\n",
      "46.01693115234375 47.5078010559082\n",
      "47.92725830078125 47.86488723754883\n",
      "45.767974853515625 47.858272552490234\n",
      "47.163702392578124 47.61302185058594\n"
     ]
    }
   ],
   "source": [
    "train_loss, test_loss = train_nn(net, data, 30)"
   ]
  },
  {
   "cell_type": "code",
   "execution_count": 13,
   "metadata": {},
   "outputs": [
    {
     "data": {
      "text/plain": [
       "([2976.367578125,\n",
       "  3360.21875,\n",
       "  2945.294921875,\n",
       "  3026.357421875,\n",
       "  2890.7724609375,\n",
       "  3150.04296875,\n",
       "  3223.194921875,\n",
       "  2931.409375,\n",
       "  2947.331640625,\n",
       "  2914.8140625,\n",
       "  3098.70625,\n",
       "  3040.109375,\n",
       "  3024.859375,\n",
       "  3041.9966796875,\n",
       "  2996.381640625,\n",
       "  2742.3572265625,\n",
       "  2956.5109375,\n",
       "  2982.2671875,\n",
       "  2956.377734375,\n",
       "  3301.625,\n",
       "  2768.1705078125,\n",
       "  2959.140234375,\n",
       "  3287.56875,\n",
       "  3010.1693359375,\n",
       "  2914.717578125,\n",
       "  2962.498046875,\n",
       "  3029.889453125,\n",
       "  2943.73203125,\n",
       "  2766.458203125,\n",
       "  3066.5255859375],\n",
       " [3012.837646484375,\n",
       "  3164.279296875,\n",
       "  3162.631103515625,\n",
       "  3086.73193359375,\n",
       "  3067.280517578125,\n",
       "  3152.29736328125,\n",
       "  3196.489501953125,\n",
       "  3029.4638671875,\n",
       "  3013.360595703125,\n",
       "  3098.23046875,\n",
       "  3016.690673828125,\n",
       "  3029.98779296875,\n",
       "  3012.428955078125,\n",
       "  3077.5419921875,\n",
       "  3063.032958984375,\n",
       "  3079.11328125,\n",
       "  3014.6025390625,\n",
       "  3013.127685546875,\n",
       "  3016.1552734375,\n",
       "  3012.30078125,\n",
       "  3016.716064453125,\n",
       "  3014.134765625,\n",
       "  3246.844482421875,\n",
       "  3039.6767578125,\n",
       "  3014.996826171875,\n",
       "  3027.3232421875,\n",
       "  3101.8935546875,\n",
       "  3015.060546875,\n",
       "  3023.36767578125,\n",
       "  3028.816650390625])"
      ]
     },
     "execution_count": 13,
     "metadata": {},
     "output_type": "execute_result"
    }
   ],
   "source": [
    "train_loss, test_loss"
   ]
  },
  {
   "cell_type": "code",
   "execution_count": 14,
   "metadata": {},
   "outputs": [],
   "source": [
    "    train_dataset = TensorDataset(torch.Tensor(data.Xtrain), torch.Tensor(data.Ytrain))\n",
    "    train_dataloader = DataLoader(dataset=train_dataset, batch_size=1024, shuffle=True)"
   ]
  },
  {
   "cell_type": "code",
   "execution_count": 15,
   "metadata": {},
   "outputs": [
    {
     "name": "stdout",
     "output_type": "stream",
     "text": [
      "tensor([[0.0223],\n",
      "        [0.0224],\n",
      "        [0.0197],\n",
      "        ...,\n",
      "        [0.0269],\n",
      "        [0.0275],\n",
      "        [0.0287]], grad_fn=<AddmmBackward>) tensor([ 0.2778,  0.2222,  0.2778,  ...,  0.3333, -0.2778,  0.0000])\n"
     ]
    }
   ],
   "source": [
    "criterion = torch.nn.MSELoss()    \n",
    "for inputs, targets in train_dataloader:\n",
    "    inputs = inputs.reshape([-1, 1, 100, 100])\n",
    "    outputs = net(inputs)\n",
    "    print(outputs, targets)\n",
    "    break"
   ]
  },
  {
   "cell_type": "code",
   "execution_count": 11,
   "metadata": {},
   "outputs": [
    {
     "data": {
      "text/plain": [
       "array([[ 0.22941178,  0.22549021,  0.22156864, ...,  0.33137256,\n",
       "         0.03333336,  0.14313728],\n",
       "       [ 0.21764708,  0.21764708,  0.22941178, ...,  0.33529413,\n",
       "         0.0411765 ,  0.13137257],\n",
       "       [ 0.2019608 ,  0.18627453,  0.21764708, ...,  0.33137256,\n",
       "         0.03333336,  0.15098041],\n",
       "       ...,\n",
       "       [-0.327451  , -0.30392158, -0.27254903, ..., -0.30392158,\n",
       "        -0.34313726, -0.37058824],\n",
       "       [-0.31176472, -0.3       , -0.2647059 , ..., -0.33137256,\n",
       "        -0.30784315, -0.22941175],\n",
       "       [-0.2490196 , -0.22156861, -0.2529412 , ..., -0.3627451 ,\n",
       "        -0.36666667, -0.31176472]], dtype=float32)"
      ]
     },
     "execution_count": 11,
     "metadata": {},
     "output_type": "execute_result"
    }
   ],
   "source": [
    "data.Xtrain"
   ]
  },
  {
   "cell_type": "code",
   "execution_count": 16,
   "metadata": {},
   "outputs": [
    {
     "data": {
      "text/plain": [
       "Parameter containing:\n",
       "tensor([[-0.0604, -0.0537, -0.0264,  ...,  0.0014, -0.0628, -0.0260]],\n",
       "       requires_grad=True)"
      ]
     },
     "execution_count": 16,
     "metadata": {},
     "output_type": "execute_result"
    }
   ],
   "source": [
    "net.fc3.weight"
   ]
  },
  {
   "cell_type": "code",
   "execution_count": null,
   "metadata": {},
   "outputs": [],
   "source": []
  }
 ],
 "metadata": {
  "kernelspec": {
   "display_name": "Python 3",
   "language": "python",
   "name": "python3"
  },
  "language_info": {
   "codemirror_mode": {
    "name": "ipython",
    "version": 3
   },
   "file_extension": ".py",
   "mimetype": "text/x-python",
   "name": "python",
   "nbconvert_exporter": "python",
   "pygments_lexer": "ipython3",
   "version": "3.7.0"
  }
 },
 "nbformat": 4,
 "nbformat_minor": 2
}
