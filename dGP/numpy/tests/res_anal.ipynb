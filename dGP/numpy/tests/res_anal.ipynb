{
 "cells": [
  {
   "cell_type": "code",
   "execution_count": 1,
   "metadata": {},
   "outputs": [],
   "source": [
    "import numpy as np"
   ]
  },
  {
   "cell_type": "code",
   "execution_count": 2,
   "metadata": {},
   "outputs": [],
   "source": [
    "import matplotlib.pyplot as plt"
   ]
  },
  {
   "cell_type": "code",
   "execution_count": 16,
   "metadata": {},
   "outputs": [],
   "source": [
    "datasets = [\"prot\"]\n",
    "criteria = [\"rmse\", \"nll\"]"
   ]
  },
  {
   "cell_type": "code",
   "execution_count": 17,
   "metadata": {},
   "outputs": [
    {
     "data": {
      "text/plain": [
       "<Figure size 432x288 with 0 Axes>"
      ]
     },
     "metadata": {},
     "output_type": "display_data"
    }
   ],
   "source": [
    "for dataset in datasets:\n",
    "    for criterion in criteria:\n",
    "        file = './tmp/' + dataset + '_1_50_0'+ '.' + criterion\n",
    "        with open(file, \"r\") as f:\n",
    "            train = []\n",
    "            test = []\n",
    "            for line in f:\n",
    "                tr = float(line.split(' ')[0])\n",
    "                te = float(line.split(' ')[1])\n",
    "                train.append(tr)\n",
    "                test.append(te)\n",
    "            plt.plot(train, label=\"train\")\n",
    "            plt.plot(test, label=\"test\")\n",
    "            plt.legend(loc='upper right')\n",
    "            plt.title(dataset + \": \" + criterion)\n",
    "            plt.savefig(dataset + \"_\" + criterion)\n",
    "            plt.clf()"
   ]
  },
  {
   "cell_type": "code",
   "execution_count": null,
   "metadata": {},
   "outputs": [],
   "source": []
  }
 ],
 "metadata": {
  "kernelspec": {
   "display_name": "Python 3",
   "language": "python",
   "name": "python3"
  },
  "language_info": {
   "codemirror_mode": {
    "name": "ipython",
    "version": 3
   },
   "file_extension": ".py",
   "mimetype": "text/x-python",
   "name": "python",
   "nbconvert_exporter": "python",
   "pygments_lexer": "ipython3",
   "version": "3.7.0"
  }
 },
 "nbformat": 4,
 "nbformat_minor": 2
}
