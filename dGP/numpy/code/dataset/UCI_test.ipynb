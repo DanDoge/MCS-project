{
 "cells": [
  {
   "cell_type": "code",
   "execution_count": 9,
   "metadata": {},
   "outputs": [],
   "source": [
    "import pandas\n",
    "import numpy as np"
   ]
  },
  {
   "cell_type": "code",
   "execution_count": 84,
   "metadata": {},
   "outputs": [],
   "source": [
    "dataset_name_list = [\"bost\", \"conc\", \"ener\", \"kin8\", \"nava\", \"powe\", \"prot\", \"wine\", \"yach\"]\n",
    "dataset_not_implemented = [\"bost\", \"kin8\", \"wine\"]\n",
    "class UCIDataset(object):\n",
    "    def __init__(self, name, ratio=0.5):\n",
    "        if name not in dataset_name_list:\n",
    "            print(\"Error: dataset not found!\")\n",
    "            print(\"Availble datasets are...\")\n",
    "            for dataset in dataset_name_list:\n",
    "                print(dataset)\n",
    "        if name in dataset_not_implemented:\n",
    "            print(\"Error: dataset not implemented!\")\n",
    "        if ratio >= 1. or ratio <= 0.:\n",
    "            print(\"train/test split ratio should be in (0, 1), 0.5 by default\")\n",
    "        self.Xtrain, self.Ytrain, self.Xtest, self.Ytest = self.getdata(name, ratio)\n",
    "    \n",
    "    def getdata(self, name, ratio):\n",
    "        if name == \"conc\":\n",
    "            data = np.array(pandas.read_excel(\"Concrete_Data.xls\"))\n",
    "            feature_split = 8\n",
    "            \n",
    "        \n",
    "        if name == \"ener\":\n",
    "            data = np.array(pandas.read_excel(\"ENB2012_data.xlsx\"))\n",
    "            feature_split = 8\n",
    "           \n",
    "        if name == \"nava\":\n",
    "            nava_data = []\n",
    "            with open(\"data.txt\", \"r\") as f:\n",
    "                for line in f:\n",
    "                    nava_data.append([float(num) for num in line.split()])\n",
    "            data = np.array(nava_data)\n",
    "            feature_split = 16\n",
    "            \n",
    "        if name == \"powe\":\n",
    "            data = np.array(pandas.read_excel(\"Folds5x2_pp.xlsx\"))\n",
    "            feature_split = 4\n",
    "            \n",
    "        if name == \"prot\":\n",
    "            data = np.genfromtxt(\"CASP.csv\", delimiter=\",\")\n",
    "            data[:, [0, 9]] = data[:, [9, 0]]\n",
    "            data = data[1:, ]\n",
    "            feature_split = 9\n",
    "        \n",
    "        if name == \"yach\":\n",
    "            yach_data = []\n",
    "            with open(\"yacht_hydrodynamics.data\", \"r\") as f:\n",
    "                for line in f:\n",
    "                    datum = [float(num) for num in line.split()]\n",
    "                    if len(datum) == 7:\n",
    "                        yach_data.append(datum)\n",
    "            data = np.array(yach_data)\n",
    "            feature_split = 6\n",
    "           \n",
    "        datalen = data.shape[0]\n",
    "        return data[ :int(datalen * ratio), :feature_split], data[ :int(datalen * ratio), feature_split:], data[int(datalen * ratio): , :feature_split], data[int(datalen * ratio): , feature_split:]"
   ]
  },
  {
   "cell_type": "code",
   "execution_count": 83,
   "metadata": {},
   "outputs": [
    {
     "name": "stdout",
     "output_type": "stream",
     "text": [
      "(927, 8) (927, 1) (103, 8) (103, 1)\n",
      "[79.98611076]\n"
     ]
    }
   ],
   "source": [
    "data = UCIDataset(\"conc\", 0.9)\n",
    "print(data.Xtrain.shape, data.Ytrain.shape, data.Xtest.shape, data.Ytest.shape)\n",
    "print(data.Ytrain[0])"
   ]
  },
  {
   "cell_type": "code",
   "execution_count": null,
   "metadata": {},
   "outputs": [],
   "source": []
  },
  {
   "cell_type": "code",
   "execution_count": null,
   "metadata": {},
   "outputs": [],
   "source": []
  }
 ],
 "metadata": {
  "kernelspec": {
   "display_name": "Python 3",
   "language": "python",
   "name": "python3"
  },
  "language_info": {
   "codemirror_mode": {
    "name": "ipython",
    "version": 3
   },
   "file_extension": ".py",
   "mimetype": "text/x-python",
   "name": "python",
   "nbconvert_exporter": "python",
   "pygments_lexer": "ipython3",
   "version": "3.7.0"
  }
 },
 "nbformat": 4,
 "nbformat_minor": 2
}
